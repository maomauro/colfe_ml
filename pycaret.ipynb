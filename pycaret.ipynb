{
 "cells": [
  {
   "cell_type": "markdown",
   "id": "160b7e9a",
   "metadata": {},
   "source": [
    "# Paso 1: Importar librerías necesarias"
   ]
  },
  {
   "cell_type": "code",
   "execution_count": 49,
   "id": "59ed901d",
   "metadata": {},
   "outputs": [],
   "source": [
    "import pandas as pd\n",
    "from pycaret.regression import *\n",
    "pd.set_option('display.float_format', '{:,.2f}'.format)  # Opcional: para mostrar floats con 2 decimales"
   ]
  },
  {
   "cell_type": "markdown",
   "id": "79fb0920",
   "metadata": {},
   "source": [
    "# Paso 2: Descargar y explorar los datos"
   ]
  },
  {
   "cell_type": "code",
   "execution_count": 50,
   "id": "09e03c76",
   "metadata": {},
   "outputs": [
    {
     "name": "stdout",
     "output_type": "stream",
     "text": [
      "  vinculacion quincena fecha_liquidacion  total_litros     total_neto\n",
      "0    asociado      1ra        2024-01-15     23,617.68  38,903,930.62\n",
      "1   proveedor      1ra        2024-01-15     71,314.99 116,787,210.59\n",
      "2    asociado      2da        2024-01-31     25,017.03  41,264,983.90\n",
      "3   proveedor      2da        2024-01-31     76,249.22 124,867,628.93\n",
      "4    asociado      1ra        2024-02-15     23,474.33  38,662,063.33\n"
     ]
    }
   ],
   "source": [
    "# Descargar los datos historicos del API\n",
    "# url = \"https://e995-191-156-244-30.ngrok-free.app/colfe_web/api/apiTotalLiquidacion.php\"\n",
    "url = \"http://localhost:82/colfe_web/api/apiTotalLiquidacion.php\"\n",
    "df = pd.read_json(url)\n",
    "\n",
    "# (Opcional) Ver las primeras filas para explorar\n",
    "print(df.head())"
   ]
  },
  {
   "cell_type": "markdown",
   "id": "4befe339",
   "metadata": {},
   "source": [
    "# Paso 3: Filtrar solo proveedores"
   ]
  },
  {
   "cell_type": "code",
   "execution_count": 51,
   "id": "891e4880",
   "metadata": {},
   "outputs": [],
   "source": [
    "df_proveedor = df[df['vinculacion'] == 'proveedor'].copy()"
   ]
  },
  {
   "cell_type": "markdown",
   "id": "229307b3",
   "metadata": {},
   "source": [
    "# Paso 4: Identificar la última quincena liquidada"
   ]
  },
  {
   "cell_type": "code",
   "execution_count": 52,
   "id": "117512d3",
   "metadata": {},
   "outputs": [],
   "source": [
    "# Obtener la fecha de la última quincena liquidada\n",
    "ultima = df_proveedor['fecha_liquidacion'].max()\n",
    "row_ultima = df_proveedor[df_proveedor['fecha_liquidacion'] == ultima].iloc[0]\n",
    "anio_mes = pd.to_datetime(row_ultima['fecha_liquidacion']).strftime('%Y-%m')"
   ]
  },
  {
   "cell_type": "markdown",
   "id": "d28593a7",
   "metadata": {},
   "source": [
    "# Paso 5: Determinar la siguiente quincena y el mes/año correspondiente"
   ]
  },
  {
   "cell_type": "code",
   "execution_count": 53,
   "id": "3d07e19d",
   "metadata": {},
   "outputs": [
    {
     "name": "stdout",
     "output_type": "stream",
     "text": [
      "Siguiente quincena a predecir: 1ra de 2025-06\n"
     ]
    }
   ],
   "source": [
    "if row_ultima['quincena'] == '1ra':\n",
    "    siguiente_quincena = '2da'\n",
    "    siguiente_anio_mes = anio_mes\n",
    "else:\n",
    "    siguiente_quincena = '1ra'\n",
    "    # Avanzar al siguiente mes\n",
    "    siguiente_anio_mes = (pd.to_datetime(row_ultima['fecha_liquidacion']) + pd.DateOffset(months=1)).strftime('%Y-%m')\n",
    "\n",
    "print(f\"Siguiente quincena a predecir: {siguiente_quincena} de {siguiente_anio_mes}\")"
   ]
  },
  {
   "cell_type": "markdown",
   "id": "32df1a78",
   "metadata": {},
   "source": [
    "# Paso 6: Entrenar SOLO con quincenas ya liquidadas"
   ]
  },
  {
   "cell_type": "code",
   "execution_count": 54,
   "id": "51a73c7f",
   "metadata": {},
   "outputs": [],
   "source": [
    "# Excluir la última quincena liquidada para evitar fuga de datos\n",
    "df_historico = df_proveedor[df_proveedor['fecha_liquidacion'] < ultima]\n",
    "\n",
    "# Seleccionar solo las columnas relevantes para el modelo\n",
    "df_modelo = df_historico[['quincena', 'total_litros', 'total_neto']]"
   ]
  },
  {
   "cell_type": "markdown",
   "id": "7a5f5562",
   "metadata": {},
   "source": [
    "# Paso 7: Configurar y entrenar PyCaret"
   ]
  },
  {
   "cell_type": "code",
   "execution_count": 55,
   "id": "dbc3d44c",
   "metadata": {},
   "outputs": [
    {
     "data": {
      "text/html": [
       "<style type=\"text/css\">\n",
       "#T_e63de_row9_col1, #T_e63de_row15_col1 {\n",
       "  background-color: lightgreen;\n",
       "}\n",
       "</style>\n",
       "<table id=\"T_e63de\">\n",
       "  <thead>\n",
       "    <tr>\n",
       "      <th class=\"blank level0\" >&nbsp;</th>\n",
       "      <th id=\"T_e63de_level0_col0\" class=\"col_heading level0 col0\" >Description</th>\n",
       "      <th id=\"T_e63de_level0_col1\" class=\"col_heading level0 col1\" >Value</th>\n",
       "    </tr>\n",
       "  </thead>\n",
       "  <tbody>\n",
       "    <tr>\n",
       "      <th id=\"T_e63de_level0_row0\" class=\"row_heading level0 row0\" >0</th>\n",
       "      <td id=\"T_e63de_row0_col0\" class=\"data row0 col0\" >Session id</td>\n",
       "      <td id=\"T_e63de_row0_col1\" class=\"data row0 col1\" >123</td>\n",
       "    </tr>\n",
       "    <tr>\n",
       "      <th id=\"T_e63de_level0_row1\" class=\"row_heading level0 row1\" >1</th>\n",
       "      <td id=\"T_e63de_row1_col0\" class=\"data row1 col0\" >Target</td>\n",
       "      <td id=\"T_e63de_row1_col1\" class=\"data row1 col1\" >total_neto</td>\n",
       "    </tr>\n",
       "    <tr>\n",
       "      <th id=\"T_e63de_level0_row2\" class=\"row_heading level0 row2\" >2</th>\n",
       "      <td id=\"T_e63de_row2_col0\" class=\"data row2 col0\" >Target type</td>\n",
       "      <td id=\"T_e63de_row2_col1\" class=\"data row2 col1\" >Regression</td>\n",
       "    </tr>\n",
       "    <tr>\n",
       "      <th id=\"T_e63de_level0_row3\" class=\"row_heading level0 row3\" >3</th>\n",
       "      <td id=\"T_e63de_row3_col0\" class=\"data row3 col0\" >Original data shape</td>\n",
       "      <td id=\"T_e63de_row3_col1\" class=\"data row3 col1\" >(33, 3)</td>\n",
       "    </tr>\n",
       "    <tr>\n",
       "      <th id=\"T_e63de_level0_row4\" class=\"row_heading level0 row4\" >4</th>\n",
       "      <td id=\"T_e63de_row4_col0\" class=\"data row4 col0\" >Transformed data shape</td>\n",
       "      <td id=\"T_e63de_row4_col1\" class=\"data row4 col1\" >(33, 3)</td>\n",
       "    </tr>\n",
       "    <tr>\n",
       "      <th id=\"T_e63de_level0_row5\" class=\"row_heading level0 row5\" >5</th>\n",
       "      <td id=\"T_e63de_row5_col0\" class=\"data row5 col0\" >Transformed train set shape</td>\n",
       "      <td id=\"T_e63de_row5_col1\" class=\"data row5 col1\" >(23, 3)</td>\n",
       "    </tr>\n",
       "    <tr>\n",
       "      <th id=\"T_e63de_level0_row6\" class=\"row_heading level0 row6\" >6</th>\n",
       "      <td id=\"T_e63de_row6_col0\" class=\"data row6 col0\" >Transformed test set shape</td>\n",
       "      <td id=\"T_e63de_row6_col1\" class=\"data row6 col1\" >(10, 3)</td>\n",
       "    </tr>\n",
       "    <tr>\n",
       "      <th id=\"T_e63de_level0_row7\" class=\"row_heading level0 row7\" >7</th>\n",
       "      <td id=\"T_e63de_row7_col0\" class=\"data row7 col0\" >Numeric features</td>\n",
       "      <td id=\"T_e63de_row7_col1\" class=\"data row7 col1\" >1</td>\n",
       "    </tr>\n",
       "    <tr>\n",
       "      <th id=\"T_e63de_level0_row8\" class=\"row_heading level0 row8\" >8</th>\n",
       "      <td id=\"T_e63de_row8_col0\" class=\"data row8 col0\" >Categorical features</td>\n",
       "      <td id=\"T_e63de_row8_col1\" class=\"data row8 col1\" >1</td>\n",
       "    </tr>\n",
       "    <tr>\n",
       "      <th id=\"T_e63de_level0_row9\" class=\"row_heading level0 row9\" >9</th>\n",
       "      <td id=\"T_e63de_row9_col0\" class=\"data row9 col0\" >Preprocess</td>\n",
       "      <td id=\"T_e63de_row9_col1\" class=\"data row9 col1\" >True</td>\n",
       "    </tr>\n",
       "    <tr>\n",
       "      <th id=\"T_e63de_level0_row10\" class=\"row_heading level0 row10\" >10</th>\n",
       "      <td id=\"T_e63de_row10_col0\" class=\"data row10 col0\" >Imputation type</td>\n",
       "      <td id=\"T_e63de_row10_col1\" class=\"data row10 col1\" >simple</td>\n",
       "    </tr>\n",
       "    <tr>\n",
       "      <th id=\"T_e63de_level0_row11\" class=\"row_heading level0 row11\" >11</th>\n",
       "      <td id=\"T_e63de_row11_col0\" class=\"data row11 col0\" >Numeric imputation</td>\n",
       "      <td id=\"T_e63de_row11_col1\" class=\"data row11 col1\" >mean</td>\n",
       "    </tr>\n",
       "    <tr>\n",
       "      <th id=\"T_e63de_level0_row12\" class=\"row_heading level0 row12\" >12</th>\n",
       "      <td id=\"T_e63de_row12_col0\" class=\"data row12 col0\" >Categorical imputation</td>\n",
       "      <td id=\"T_e63de_row12_col1\" class=\"data row12 col1\" >mode</td>\n",
       "    </tr>\n",
       "    <tr>\n",
       "      <th id=\"T_e63de_level0_row13\" class=\"row_heading level0 row13\" >13</th>\n",
       "      <td id=\"T_e63de_row13_col0\" class=\"data row13 col0\" >Maximum one-hot encoding</td>\n",
       "      <td id=\"T_e63de_row13_col1\" class=\"data row13 col1\" >25</td>\n",
       "    </tr>\n",
       "    <tr>\n",
       "      <th id=\"T_e63de_level0_row14\" class=\"row_heading level0 row14\" >14</th>\n",
       "      <td id=\"T_e63de_row14_col0\" class=\"data row14 col0\" >Encoding method</td>\n",
       "      <td id=\"T_e63de_row14_col1\" class=\"data row14 col1\" >None</td>\n",
       "    </tr>\n",
       "    <tr>\n",
       "      <th id=\"T_e63de_level0_row15\" class=\"row_heading level0 row15\" >15</th>\n",
       "      <td id=\"T_e63de_row15_col0\" class=\"data row15 col0\" >Normalize</td>\n",
       "      <td id=\"T_e63de_row15_col1\" class=\"data row15 col1\" >True</td>\n",
       "    </tr>\n",
       "    <tr>\n",
       "      <th id=\"T_e63de_level0_row16\" class=\"row_heading level0 row16\" >16</th>\n",
       "      <td id=\"T_e63de_row16_col0\" class=\"data row16 col0\" >Normalize method</td>\n",
       "      <td id=\"T_e63de_row16_col1\" class=\"data row16 col1\" >zscore</td>\n",
       "    </tr>\n",
       "    <tr>\n",
       "      <th id=\"T_e63de_level0_row17\" class=\"row_heading level0 row17\" >17</th>\n",
       "      <td id=\"T_e63de_row17_col0\" class=\"data row17 col0\" >Fold Generator</td>\n",
       "      <td id=\"T_e63de_row17_col1\" class=\"data row17 col1\" >KFold</td>\n",
       "    </tr>\n",
       "    <tr>\n",
       "      <th id=\"T_e63de_level0_row18\" class=\"row_heading level0 row18\" >18</th>\n",
       "      <td id=\"T_e63de_row18_col0\" class=\"data row18 col0\" >Fold Number</td>\n",
       "      <td id=\"T_e63de_row18_col1\" class=\"data row18 col1\" >10</td>\n",
       "    </tr>\n",
       "    <tr>\n",
       "      <th id=\"T_e63de_level0_row19\" class=\"row_heading level0 row19\" >19</th>\n",
       "      <td id=\"T_e63de_row19_col0\" class=\"data row19 col0\" >CPU Jobs</td>\n",
       "      <td id=\"T_e63de_row19_col1\" class=\"data row19 col1\" >-1</td>\n",
       "    </tr>\n",
       "    <tr>\n",
       "      <th id=\"T_e63de_level0_row20\" class=\"row_heading level0 row20\" >20</th>\n",
       "      <td id=\"T_e63de_row20_col0\" class=\"data row20 col0\" >Use GPU</td>\n",
       "      <td id=\"T_e63de_row20_col1\" class=\"data row20 col1\" >False</td>\n",
       "    </tr>\n",
       "    <tr>\n",
       "      <th id=\"T_e63de_level0_row21\" class=\"row_heading level0 row21\" >21</th>\n",
       "      <td id=\"T_e63de_row21_col0\" class=\"data row21 col0\" >Log Experiment</td>\n",
       "      <td id=\"T_e63de_row21_col1\" class=\"data row21 col1\" >False</td>\n",
       "    </tr>\n",
       "    <tr>\n",
       "      <th id=\"T_e63de_level0_row22\" class=\"row_heading level0 row22\" >22</th>\n",
       "      <td id=\"T_e63de_row22_col0\" class=\"data row22 col0\" >Experiment Name</td>\n",
       "      <td id=\"T_e63de_row22_col1\" class=\"data row22 col1\" >reg-default-name</td>\n",
       "    </tr>\n",
       "    <tr>\n",
       "      <th id=\"T_e63de_level0_row23\" class=\"row_heading level0 row23\" >23</th>\n",
       "      <td id=\"T_e63de_row23_col0\" class=\"data row23 col0\" >USI</td>\n",
       "      <td id=\"T_e63de_row23_col1\" class=\"data row23 col1\" >6d8f</td>\n",
       "    </tr>\n",
       "  </tbody>\n",
       "</table>\n"
      ],
      "text/plain": [
       "<pandas.io.formats.style.Styler at 0x281fc9f55d0>"
      ]
     },
     "metadata": {},
     "output_type": "display_data"
    }
   ],
   "source": [
    "reg1 = setup(\n",
    "    data=df_modelo,\n",
    "    target='total_neto',\n",
    "    session_id=123,      # Para reproducibilidad\n",
    "    normalize=True       # Normaliza los datos numéricos\n",
    ")"
   ]
  },
  {
   "cell_type": "markdown",
   "id": "de387555",
   "metadata": {},
   "source": [
    "# Paso 8: Comparar y seleccionar los mejores modelos"
   ]
  },
  {
   "cell_type": "code",
   "execution_count": 58,
   "id": "680296ba",
   "metadata": {},
   "outputs": [
    {
     "data": {
      "text/html": [],
      "text/plain": [
       "<IPython.core.display.HTML object>"
      ]
     },
     "metadata": {},
     "output_type": "display_data"
    },
    {
     "data": {
      "text/html": [
       "<style type=\"text/css\">\n",
       "#T_71c39 th {\n",
       "  text-align: left;\n",
       "}\n",
       "#T_71c39_row0_col0, #T_71c39_row0_col1, #T_71c39_row0_col2, #T_71c39_row0_col3, #T_71c39_row1_col0, #T_71c39_row1_col1, #T_71c39_row1_col2, #T_71c39_row1_col3, #T_71c39_row2_col0, #T_71c39_row2_col1, #T_71c39_row2_col2, #T_71c39_row2_col3, #T_71c39_row3_col0, #T_71c39_row3_col2, #T_71c39_row3_col3, #T_71c39_row4_col0, #T_71c39_row4_col1, #T_71c39_row5_col0, #T_71c39_row5_col1, #T_71c39_row5_col2, #T_71c39_row5_col3, #T_71c39_row5_col4, #T_71c39_row5_col5, #T_71c39_row5_col6, #T_71c39_row6_col0, #T_71c39_row6_col1, #T_71c39_row6_col2, #T_71c39_row6_col3, #T_71c39_row6_col4, #T_71c39_row6_col5, #T_71c39_row6_col6, #T_71c39_row7_col0, #T_71c39_row7_col1, #T_71c39_row7_col2, #T_71c39_row7_col3, #T_71c39_row7_col4, #T_71c39_row7_col5, #T_71c39_row7_col6, #T_71c39_row8_col0, #T_71c39_row8_col1, #T_71c39_row8_col2, #T_71c39_row8_col3, #T_71c39_row8_col4, #T_71c39_row8_col5, #T_71c39_row8_col6, #T_71c39_row9_col0, #T_71c39_row9_col1, #T_71c39_row9_col2, #T_71c39_row9_col3, #T_71c39_row9_col4, #T_71c39_row9_col5, #T_71c39_row9_col6, #T_71c39_row10_col0, #T_71c39_row10_col1, #T_71c39_row10_col2, #T_71c39_row10_col3, #T_71c39_row10_col4, #T_71c39_row10_col5, #T_71c39_row10_col6, #T_71c39_row11_col0, #T_71c39_row11_col1, #T_71c39_row11_col2, #T_71c39_row11_col3, #T_71c39_row11_col4, #T_71c39_row11_col5, #T_71c39_row11_col6, #T_71c39_row12_col0, #T_71c39_row12_col1, #T_71c39_row12_col2, #T_71c39_row12_col3, #T_71c39_row12_col4, #T_71c39_row12_col5, #T_71c39_row12_col6, #T_71c39_row13_col0, #T_71c39_row13_col1, #T_71c39_row13_col2, #T_71c39_row13_col3, #T_71c39_row13_col4, #T_71c39_row13_col5, #T_71c39_row13_col6, #T_71c39_row14_col0, #T_71c39_row14_col1, #T_71c39_row14_col2, #T_71c39_row14_col3, #T_71c39_row14_col4, #T_71c39_row14_col5, #T_71c39_row14_col6, #T_71c39_row15_col0, #T_71c39_row15_col1, #T_71c39_row15_col2, #T_71c39_row15_col3, #T_71c39_row15_col4, #T_71c39_row15_col5, #T_71c39_row15_col6, #T_71c39_row16_col0, #T_71c39_row16_col1, #T_71c39_row16_col2, #T_71c39_row16_col3, #T_71c39_row16_col4, #T_71c39_row16_col5, #T_71c39_row16_col6, #T_71c39_row17_col0, #T_71c39_row17_col1, #T_71c39_row17_col2, #T_71c39_row17_col3, #T_71c39_row17_col4, #T_71c39_row17_col5, #T_71c39_row17_col6, #T_71c39_row18_col0, #T_71c39_row18_col1, #T_71c39_row18_col2, #T_71c39_row18_col3, #T_71c39_row18_col4, #T_71c39_row18_col5, #T_71c39_row18_col6, #T_71c39_row19_col0, #T_71c39_row19_col1, #T_71c39_row19_col2, #T_71c39_row19_col3, #T_71c39_row19_col4, #T_71c39_row19_col5, #T_71c39_row19_col6 {\n",
       "  text-align: left;\n",
       "}\n",
       "#T_71c39_row0_col4, #T_71c39_row0_col5, #T_71c39_row0_col6, #T_71c39_row1_col4, #T_71c39_row1_col5, #T_71c39_row1_col6, #T_71c39_row2_col4, #T_71c39_row2_col5, #T_71c39_row2_col6, #T_71c39_row3_col1, #T_71c39_row3_col4, #T_71c39_row3_col5, #T_71c39_row3_col6, #T_71c39_row4_col2, #T_71c39_row4_col3, #T_71c39_row4_col4, #T_71c39_row4_col5, #T_71c39_row4_col6 {\n",
       "  text-align: left;\n",
       "  background-color: yellow;\n",
       "}\n",
       "#T_71c39_row0_col7, #T_71c39_row1_col7, #T_71c39_row2_col7, #T_71c39_row3_col7, #T_71c39_row4_col7, #T_71c39_row5_col7, #T_71c39_row6_col7, #T_71c39_row7_col7, #T_71c39_row8_col7, #T_71c39_row9_col7, #T_71c39_row10_col7, #T_71c39_row11_col7, #T_71c39_row12_col7, #T_71c39_row13_col7, #T_71c39_row14_col7, #T_71c39_row15_col7, #T_71c39_row16_col7, #T_71c39_row18_col7, #T_71c39_row19_col7 {\n",
       "  text-align: left;\n",
       "  background-color: lightgrey;\n",
       "}\n",
       "#T_71c39_row17_col7 {\n",
       "  text-align: left;\n",
       "  background-color: yellow;\n",
       "  background-color: lightgrey;\n",
       "}\n",
       "</style>\n",
       "<table id=\"T_71c39\">\n",
       "  <thead>\n",
       "    <tr>\n",
       "      <th class=\"blank level0\" >&nbsp;</th>\n",
       "      <th id=\"T_71c39_level0_col0\" class=\"col_heading level0 col0\" >Model</th>\n",
       "      <th id=\"T_71c39_level0_col1\" class=\"col_heading level0 col1\" >MAE</th>\n",
       "      <th id=\"T_71c39_level0_col2\" class=\"col_heading level0 col2\" >MSE</th>\n",
       "      <th id=\"T_71c39_level0_col3\" class=\"col_heading level0 col3\" >RMSE</th>\n",
       "      <th id=\"T_71c39_level0_col4\" class=\"col_heading level0 col4\" >R2</th>\n",
       "      <th id=\"T_71c39_level0_col5\" class=\"col_heading level0 col5\" >RMSLE</th>\n",
       "      <th id=\"T_71c39_level0_col6\" class=\"col_heading level0 col6\" >MAPE</th>\n",
       "      <th id=\"T_71c39_level0_col7\" class=\"col_heading level0 col7\" >TT (Sec)</th>\n",
       "    </tr>\n",
       "  </thead>\n",
       "  <tbody>\n",
       "    <tr>\n",
       "      <th id=\"T_71c39_level0_row0\" class=\"row_heading level0 row0\" >lr</th>\n",
       "      <td id=\"T_71c39_row0_col0\" class=\"data row0 col0\" >Linear Regression</td>\n",
       "      <td id=\"T_71c39_row0_col1\" class=\"data row0 col1\" >4.3600</td>\n",
       "      <td id=\"T_71c39_row0_col2\" class=\"data row0 col2\" >28.1444</td>\n",
       "      <td id=\"T_71c39_row0_col3\" class=\"data row0 col3\" >4.8228</td>\n",
       "      <td id=\"T_71c39_row0_col4\" class=\"data row0 col4\" >1.0000</td>\n",
       "      <td id=\"T_71c39_row0_col5\" class=\"data row0 col5\" >0.0000</td>\n",
       "      <td id=\"T_71c39_row0_col6\" class=\"data row0 col6\" >0.0000</td>\n",
       "      <td id=\"T_71c39_row0_col7\" class=\"data row0 col7\" >1.0600</td>\n",
       "    </tr>\n",
       "    <tr>\n",
       "      <th id=\"T_71c39_level0_row1\" class=\"row_heading level0 row1\" >lasso</th>\n",
       "      <td id=\"T_71c39_row1_col0\" class=\"data row1 col0\" >Lasso Regression</td>\n",
       "      <td id=\"T_71c39_row1_col1\" class=\"data row1 col1\" >29.0160</td>\n",
       "      <td id=\"T_71c39_row1_col2\" class=\"data row1 col2\" >6393.0866</td>\n",
       "      <td id=\"T_71c39_row1_col3\" class=\"data row1 col3\" >29.9468</td>\n",
       "      <td id=\"T_71c39_row1_col4\" class=\"data row1 col4\" >1.0000</td>\n",
       "      <td id=\"T_71c39_row1_col5\" class=\"data row1 col5\" >0.0000</td>\n",
       "      <td id=\"T_71c39_row1_col6\" class=\"data row1 col6\" >0.0000</td>\n",
       "      <td id=\"T_71c39_row1_col7\" class=\"data row1 col7\" >0.3080</td>\n",
       "    </tr>\n",
       "    <tr>\n",
       "      <th id=\"T_71c39_level0_row2\" class=\"row_heading level0 row2\" >lar</th>\n",
       "      <td id=\"T_71c39_row2_col0\" class=\"data row2 col0\" >Least Angle Regression</td>\n",
       "      <td id=\"T_71c39_row2_col1\" class=\"data row2 col1\" >4.3600</td>\n",
       "      <td id=\"T_71c39_row2_col2\" class=\"data row2 col2\" >28.1444</td>\n",
       "      <td id=\"T_71c39_row2_col3\" class=\"data row2 col3\" >4.8228</td>\n",
       "      <td id=\"T_71c39_row2_col4\" class=\"data row2 col4\" >1.0000</td>\n",
       "      <td id=\"T_71c39_row2_col5\" class=\"data row2 col5\" >0.0000</td>\n",
       "      <td id=\"T_71c39_row2_col6\" class=\"data row2 col6\" >0.0000</td>\n",
       "      <td id=\"T_71c39_row2_col7\" class=\"data row2 col7\" >0.0160</td>\n",
       "    </tr>\n",
       "    <tr>\n",
       "      <th id=\"T_71c39_level0_row3\" class=\"row_heading level0 row3\" >llar</th>\n",
       "      <td id=\"T_71c39_row3_col0\" class=\"data row3 col0\" >Lasso Least Angle Regression</td>\n",
       "      <td id=\"T_71c39_row3_col1\" class=\"data row3 col1\" >4.0832</td>\n",
       "      <td id=\"T_71c39_row3_col2\" class=\"data row3 col2\" >27.0231</td>\n",
       "      <td id=\"T_71c39_row3_col3\" class=\"data row3 col3\" >4.6577</td>\n",
       "      <td id=\"T_71c39_row3_col4\" class=\"data row3 col4\" >1.0000</td>\n",
       "      <td id=\"T_71c39_row3_col5\" class=\"data row3 col5\" >0.0000</td>\n",
       "      <td id=\"T_71c39_row3_col6\" class=\"data row3 col6\" >0.0000</td>\n",
       "      <td id=\"T_71c39_row3_col7\" class=\"data row3 col7\" >0.0150</td>\n",
       "    </tr>\n",
       "    <tr>\n",
       "      <th id=\"T_71c39_level0_row4\" class=\"row_heading level0 row4\" >omp</th>\n",
       "      <td id=\"T_71c39_row4_col0\" class=\"data row4 col0\" >Orthogonal Matching Pursuit</td>\n",
       "      <td id=\"T_71c39_row4_col1\" class=\"data row4 col1\" >4.2469</td>\n",
       "      <td id=\"T_71c39_row4_col2\" class=\"data row4 col2\" >26.2729</td>\n",
       "      <td id=\"T_71c39_row4_col3\" class=\"data row4 col3\" >4.6335</td>\n",
       "      <td id=\"T_71c39_row4_col4\" class=\"data row4 col4\" >1.0000</td>\n",
       "      <td id=\"T_71c39_row4_col5\" class=\"data row4 col5\" >0.0000</td>\n",
       "      <td id=\"T_71c39_row4_col6\" class=\"data row4 col6\" >0.0000</td>\n",
       "      <td id=\"T_71c39_row4_col7\" class=\"data row4 col7\" >0.0150</td>\n",
       "    </tr>\n",
       "    <tr>\n",
       "      <th id=\"T_71c39_level0_row5\" class=\"row_heading level0 row5\" >et</th>\n",
       "      <td id=\"T_71c39_row5_col0\" class=\"data row5 col0\" >Extra Trees Regressor</td>\n",
       "      <td id=\"T_71c39_row5_col1\" class=\"data row5 col1\" >835681.5213</td>\n",
       "      <td id=\"T_71c39_row5_col2\" class=\"data row5 col2\" >9919785137050.8086</td>\n",
       "      <td id=\"T_71c39_row5_col3\" class=\"data row5 col3\" >1066396.0135</td>\n",
       "      <td id=\"T_71c39_row5_col4\" class=\"data row5 col4\" >-5.5644</td>\n",
       "      <td id=\"T_71c39_row5_col5\" class=\"data row5 col5\" >0.0096</td>\n",
       "      <td id=\"T_71c39_row5_col6\" class=\"data row5 col6\" >0.0079</td>\n",
       "      <td id=\"T_71c39_row5_col7\" class=\"data row5 col7\" >0.0410</td>\n",
       "    </tr>\n",
       "    <tr>\n",
       "      <th id=\"T_71c39_level0_row6\" class=\"row_heading level0 row6\" >catboost</th>\n",
       "      <td id=\"T_71c39_row6_col0\" class=\"data row6 col0\" >CatBoost Regressor</td>\n",
       "      <td id=\"T_71c39_row6_col1\" class=\"data row6 col1\" >1822558.0951</td>\n",
       "      <td id=\"T_71c39_row6_col2\" class=\"data row6 col2\" >15430261637279.3223</td>\n",
       "      <td id=\"T_71c39_row6_col3\" class=\"data row6 col3\" >2328862.3074</td>\n",
       "      <td id=\"T_71c39_row6_col4\" class=\"data row6 col4\" >-19.9781</td>\n",
       "      <td id=\"T_71c39_row6_col5\" class=\"data row6 col5\" >0.0194</td>\n",
       "      <td id=\"T_71c39_row6_col6\" class=\"data row6 col6\" >0.0154</td>\n",
       "      <td id=\"T_71c39_row6_col7\" class=\"data row6 col7\" >0.2370</td>\n",
       "    </tr>\n",
       "    <tr>\n",
       "      <th id=\"T_71c39_level0_row7\" class=\"row_heading level0 row7\" >gbr</th>\n",
       "      <td id=\"T_71c39_row7_col0\" class=\"data row7 col0\" >Gradient Boosting Regressor</td>\n",
       "      <td id=\"T_71c39_row7_col1\" class=\"data row7 col1\" >1015464.1325</td>\n",
       "      <td id=\"T_71c39_row7_col2\" class=\"data row7 col2\" >10567059196678.1602</td>\n",
       "      <td id=\"T_71c39_row7_col3\" class=\"data row7 col3\" >1312793.1885</td>\n",
       "      <td id=\"T_71c39_row7_col4\" class=\"data row7 col4\" >-21.3403</td>\n",
       "      <td id=\"T_71c39_row7_col5\" class=\"data row7 col5\" >0.0117</td>\n",
       "      <td id=\"T_71c39_row7_col6\" class=\"data row7 col6\" >0.0095</td>\n",
       "      <td id=\"T_71c39_row7_col7\" class=\"data row7 col7\" >0.0390</td>\n",
       "    </tr>\n",
       "    <tr>\n",
       "      <th id=\"T_71c39_level0_row8\" class=\"row_heading level0 row8\" >dt</th>\n",
       "      <td id=\"T_71c39_row8_col0\" class=\"data row8 col0\" >Decision Tree Regressor</td>\n",
       "      <td id=\"T_71c39_row8_col1\" class=\"data row8 col1\" >838365.2000</td>\n",
       "      <td id=\"T_71c39_row8_col2\" class=\"data row8 col2\" >9914324917415.4668</td>\n",
       "      <td id=\"T_71c39_row8_col3\" class=\"data row8 col3\" >1071062.6852</td>\n",
       "      <td id=\"T_71c39_row8_col4\" class=\"data row8 col4\" >-21.3874</td>\n",
       "      <td id=\"T_71c39_row8_col5\" class=\"data row8 col5\" >0.0097</td>\n",
       "      <td id=\"T_71c39_row8_col6\" class=\"data row8 col6\" >0.0079</td>\n",
       "      <td id=\"T_71c39_row8_col7\" class=\"data row8 col7\" >0.0140</td>\n",
       "    </tr>\n",
       "    <tr>\n",
       "      <th id=\"T_71c39_level0_row9\" class=\"row_heading level0 row9\" >xgboost</th>\n",
       "      <td id=\"T_71c39_row9_col0\" class=\"data row9 col0\" >Extreme Gradient Boosting</td>\n",
       "      <td id=\"T_71c39_row9_col1\" class=\"data row9 col1\" >2880248.6834</td>\n",
       "      <td id=\"T_71c39_row9_col2\" class=\"data row9 col2\" >33274640327692.8008</td>\n",
       "      <td id=\"T_71c39_row9_col3\" class=\"data row9 col3\" >3599097.0727</td>\n",
       "      <td id=\"T_71c39_row9_col4\" class=\"data row9 col4\" >-21.7723</td>\n",
       "      <td id=\"T_71c39_row9_col5\" class=\"data row9 col5\" >0.0293</td>\n",
       "      <td id=\"T_71c39_row9_col6\" class=\"data row9 col6\" >0.0231</td>\n",
       "      <td id=\"T_71c39_row9_col7\" class=\"data row9 col7\" >0.0390</td>\n",
       "    </tr>\n",
       "    <tr>\n",
       "      <th id=\"T_71c39_level0_row10\" class=\"row_heading level0 row10\" >rf</th>\n",
       "      <td id=\"T_71c39_row10_col0\" class=\"data row10 col0\" >Random Forest Regressor</td>\n",
       "      <td id=\"T_71c39_row10_col1\" class=\"data row10 col1\" >1569981.3347</td>\n",
       "      <td id=\"T_71c39_row10_col2\" class=\"data row10 col2\" >13146338199368.8398</td>\n",
       "      <td id=\"T_71c39_row10_col3\" class=\"data row10 col3\" >1931273.7592</td>\n",
       "      <td id=\"T_71c39_row10_col4\" class=\"data row10 col4\" >-30.6212</td>\n",
       "      <td id=\"T_71c39_row10_col5\" class=\"data row10 col5\" >0.0160</td>\n",
       "      <td id=\"T_71c39_row10_col6\" class=\"data row10 col6\" >0.0134</td>\n",
       "      <td id=\"T_71c39_row10_col7\" class=\"data row10 col7\" >0.0530</td>\n",
       "    </tr>\n",
       "    <tr>\n",
       "      <th id=\"T_71c39_level0_row11\" class=\"row_heading level0 row11\" >ada</th>\n",
       "      <td id=\"T_71c39_row11_col0\" class=\"data row11 col0\" >AdaBoost Regressor</td>\n",
       "      <td id=\"T_71c39_row11_col1\" class=\"data row11 col1\" >895222.4491</td>\n",
       "      <td id=\"T_71c39_row11_col2\" class=\"data row11 col2\" >9954140206134.0508</td>\n",
       "      <td id=\"T_71c39_row11_col3\" class=\"data row11 col3\" >1131947.4059</td>\n",
       "      <td id=\"T_71c39_row11_col4\" class=\"data row11 col4\" >-67.1711</td>\n",
       "      <td id=\"T_71c39_row11_col5\" class=\"data row11 col5\" >0.0101</td>\n",
       "      <td id=\"T_71c39_row11_col6\" class=\"data row11 col6\" >0.0084</td>\n",
       "      <td id=\"T_71c39_row11_col7\" class=\"data row11 col7\" >0.0260</td>\n",
       "    </tr>\n",
       "    <tr>\n",
       "      <th id=\"T_71c39_level0_row12\" class=\"row_heading level0 row12\" >ridge</th>\n",
       "      <td id=\"T_71c39_row12_col0\" class=\"data row12 col0\" >Ridge Regression</td>\n",
       "      <td id=\"T_71c39_row12_col1\" class=\"data row12 col1\" >654689.8754</td>\n",
       "      <td id=\"T_71c39_row12_col2\" class=\"data row12 col2\" >561017569220.5452</td>\n",
       "      <td id=\"T_71c39_row12_col3\" class=\"data row12 col3\" >698140.7659</td>\n",
       "      <td id=\"T_71c39_row12_col4\" class=\"data row12 col4\" >-198.3961</td>\n",
       "      <td id=\"T_71c39_row12_col5\" class=\"data row12 col5\" >0.0055</td>\n",
       "      <td id=\"T_71c39_row12_col6\" class=\"data row12 col6\" >0.0051</td>\n",
       "      <td id=\"T_71c39_row12_col7\" class=\"data row12 col7\" >0.0140</td>\n",
       "    </tr>\n",
       "    <tr>\n",
       "      <th id=\"T_71c39_level0_row13\" class=\"row_heading level0 row13\" >knn</th>\n",
       "      <td id=\"T_71c39_row13_col0\" class=\"data row13 col0\" >K Neighbors Regressor</td>\n",
       "      <td id=\"T_71c39_row13_col1\" class=\"data row13 col1\" >4587875.0375</td>\n",
       "      <td id=\"T_71c39_row13_col2\" class=\"data row13 col2\" >52786240860979.2031</td>\n",
       "      <td id=\"T_71c39_row13_col3\" class=\"data row13 col3\" >5567709.8094</td>\n",
       "      <td id=\"T_71c39_row13_col4\" class=\"data row13 col4\" >-951.2431</td>\n",
       "      <td id=\"T_71c39_row13_col5\" class=\"data row13 col5\" >0.0422</td>\n",
       "      <td id=\"T_71c39_row13_col6\" class=\"data row13 col6\" >0.0349</td>\n",
       "      <td id=\"T_71c39_row13_col7\" class=\"data row13 col7\" >0.0270</td>\n",
       "    </tr>\n",
       "    <tr>\n",
       "      <th id=\"T_71c39_level0_row14\" class=\"row_heading level0 row14\" >en</th>\n",
       "      <td id=\"T_71c39_row14_col0\" class=\"data row14 col0\" >Elastic Net</td>\n",
       "      <td id=\"T_71c39_row14_col1\" class=\"data row14 col1\" >4554180.7667</td>\n",
       "      <td id=\"T_71c39_row14_col2\" class=\"data row14 col2\" >26397863347685.4297</td>\n",
       "      <td id=\"T_71c39_row14_col3\" class=\"data row14 col3\" >4875418.8510</td>\n",
       "      <td id=\"T_71c39_row14_col4\" class=\"data row14 col4\" >-10815.7541</td>\n",
       "      <td id=\"T_71c39_row14_col5\" class=\"data row14 col5\" >0.0378</td>\n",
       "      <td id=\"T_71c39_row14_col6\" class=\"data row14 col6\" >0.0356</td>\n",
       "      <td id=\"T_71c39_row14_col7\" class=\"data row14 col7\" >0.0140</td>\n",
       "    </tr>\n",
       "    <tr>\n",
       "      <th id=\"T_71c39_level0_row15\" class=\"row_heading level0 row15\" >huber</th>\n",
       "      <td id=\"T_71c39_row15_col0\" class=\"data row15 col0\" >Huber Regressor</td>\n",
       "      <td id=\"T_71c39_row15_col1\" class=\"data row15 col1\" >12715512.7491</td>\n",
       "      <td id=\"T_71c39_row15_col2\" class=\"data row15 col2\" >201913810453930.6875</td>\n",
       "      <td id=\"T_71c39_row15_col3\" class=\"data row15 col3\" >13716447.4546</td>\n",
       "      <td id=\"T_71c39_row15_col4\" class=\"data row15 col4\" >-98060.2068</td>\n",
       "      <td id=\"T_71c39_row15_col5\" class=\"data row15 col5\" >0.1066</td>\n",
       "      <td id=\"T_71c39_row15_col6\" class=\"data row15 col6\" >0.0990</td>\n",
       "      <td id=\"T_71c39_row15_col7\" class=\"data row15 col7\" >0.0160</td>\n",
       "    </tr>\n",
       "    <tr>\n",
       "      <th id=\"T_71c39_level0_row16\" class=\"row_heading level0 row16\" >dummy</th>\n",
       "      <td id=\"T_71c39_row16_col0\" class=\"data row16 col0\" >Dummy Regressor</td>\n",
       "      <td id=\"T_71c39_row16_col1\" class=\"data row16 col1\" >12863212.3000</td>\n",
       "      <td id=\"T_71c39_row16_col2\" class=\"data row16 col2\" >207417530069811.1875</td>\n",
       "      <td id=\"T_71c39_row16_col3\" class=\"data row16 col3\" >13883164.5000</td>\n",
       "      <td id=\"T_71c39_row16_col4\" class=\"data row16 col4\" >-99550.0318</td>\n",
       "      <td id=\"T_71c39_row16_col5\" class=\"data row16 col5\" >0.1079</td>\n",
       "      <td id=\"T_71c39_row16_col6\" class=\"data row16 col6\" >0.1003</td>\n",
       "      <td id=\"T_71c39_row16_col7\" class=\"data row16 col7\" >0.0220</td>\n",
       "    </tr>\n",
       "    <tr>\n",
       "      <th id=\"T_71c39_level0_row17\" class=\"row_heading level0 row17\" >br</th>\n",
       "      <td id=\"T_71c39_row17_col0\" class=\"data row17 col0\" >Bayesian Ridge</td>\n",
       "      <td id=\"T_71c39_row17_col1\" class=\"data row17 col1\" >12863210.6629</td>\n",
       "      <td id=\"T_71c39_row17_col2\" class=\"data row17 col2\" >207417526341503.8125</td>\n",
       "      <td id=\"T_71c39_row17_col3\" class=\"data row17 col3\" >13883164.1056</td>\n",
       "      <td id=\"T_71c39_row17_col4\" class=\"data row17 col4\" >-99550.1229</td>\n",
       "      <td id=\"T_71c39_row17_col5\" class=\"data row17 col5\" >0.1079</td>\n",
       "      <td id=\"T_71c39_row17_col6\" class=\"data row17 col6\" >0.1003</td>\n",
       "      <td id=\"T_71c39_row17_col7\" class=\"data row17 col7\" >0.0130</td>\n",
       "    </tr>\n",
       "    <tr>\n",
       "      <th id=\"T_71c39_level0_row18\" class=\"row_heading level0 row18\" >lightgbm</th>\n",
       "      <td id=\"T_71c39_row18_col0\" class=\"data row18 col0\" >Light Gradient Boosting Machine</td>\n",
       "      <td id=\"T_71c39_row18_col1\" class=\"data row18 col1\" >12863210.6629</td>\n",
       "      <td id=\"T_71c39_row18_col2\" class=\"data row18 col2\" >207417526341545.7188</td>\n",
       "      <td id=\"T_71c39_row18_col3\" class=\"data row18 col3\" >13883164.1056</td>\n",
       "      <td id=\"T_71c39_row18_col4\" class=\"data row18 col4\" >-99550.1229</td>\n",
       "      <td id=\"T_71c39_row18_col5\" class=\"data row18 col5\" >0.1079</td>\n",
       "      <td id=\"T_71c39_row18_col6\" class=\"data row18 col6\" >0.1003</td>\n",
       "      <td id=\"T_71c39_row18_col7\" class=\"data row18 col7\" >0.0350</td>\n",
       "    </tr>\n",
       "    <tr>\n",
       "      <th id=\"T_71c39_level0_row19\" class=\"row_heading level0 row19\" >par</th>\n",
       "      <td id=\"T_71c39_row19_col0\" class=\"data row19 col0\" >Passive Aggressive Regressor</td>\n",
       "      <td id=\"T_71c39_row19_col1\" class=\"data row19 col1\" >128033133.8667</td>\n",
       "      <td id=\"T_71c39_row19_col2\" class=\"data row19 col2\" >16584920499607876.0000</td>\n",
       "      <td id=\"T_71c39_row19_col3\" class=\"data row19 col3\" >128532656.2073</td>\n",
       "      <td id=\"T_71c39_row19_col4\" class=\"data row19 col4\" >-10764536.7761</td>\n",
       "      <td id=\"T_71c39_row19_col5\" class=\"data row19 col5\" >8.7249</td>\n",
       "      <td id=\"T_71c39_row19_col6\" class=\"data row19 col6\" >0.9998</td>\n",
       "      <td id=\"T_71c39_row19_col7\" class=\"data row19 col7\" >0.0160</td>\n",
       "    </tr>\n",
       "  </tbody>\n",
       "</table>\n"
      ],
      "text/plain": [
       "<pandas.io.formats.style.Styler at 0x281fd18fca0>"
      ]
     },
     "metadata": {},
     "output_type": "display_data"
    },
    {
     "data": {
      "text/html": [],
      "text/plain": [
       "<IPython.core.display.HTML object>"
      ]
     },
     "metadata": {},
     "output_type": "display_data"
    },
    {
     "name": "stdout",
     "output_type": "stream",
     "text": [
      "Mejor modelo seleccionado:\n",
      "LinearRegression(n_jobs=-1)\n"
     ]
    },
    {
     "data": {
      "text/html": [],
      "text/plain": [
       "<IPython.core.display.HTML object>"
      ]
     },
     "metadata": {},
     "output_type": "display_data"
    },
    {
     "data": {
      "image/png": "[encoded data removed]",
      "text/plain": [
       "<Figure size 800x550 with 2 Axes>"
      ]
     },
     "metadata": {},
     "output_type": "display_data"
    },
    {
     "data": {
      "text/html": [],
      "text/plain": [
       "<IPython.core.display.HTML object>"
      ]
     },
     "metadata": {},
     "output_type": "display_data"
    },
    {
     "data": {
      "image/png": "[encoded data removed]",
      "text/plain": [
       "<Figure size 800x550 with 1 Axes>"
      ]
     },
     "metadata": {},
     "output_type": "display_data"
    },
    {
     "data": {
      "text/html": [],
      "text/plain": [
       "<IPython.core.display.HTML object>"
      ]
     },
     "metadata": {},
     "output_type": "display_data"
    },
    {
     "data": {
      "image/png": "[encoded data removed]",
      "text/plain": [
       "<Figure size 800x500 with 1 Axes>"
      ]
     },
     "metadata": {},
     "output_type": "display_data"
    },
    {
     "name": "stdout",
     "output_type": "stream",
     "text": [
      "                                    Model            MAE  \\\n",
      "lr                      Linear Regression           4.36   \n",
      "lasso                    Lasso Regression          29.02   \n",
      "lar                Least Angle Regression           4.36   \n",
      "llar         Lasso Least Angle Regression           4.08   \n",
      "omp           Orthogonal Matching Pursuit           4.25   \n",
      "et                  Extra Trees Regressor     835,681.52   \n",
      "catboost               CatBoost Regressor   1,822,558.10   \n",
      "gbr           Gradient Boosting Regressor   1,015,464.13   \n",
      "dt                Decision Tree Regressor     838,365.20   \n",
      "xgboost         Extreme Gradient Boosting   2,880,248.68   \n",
      "rf                Random Forest Regressor   1,569,981.33   \n",
      "ada                    AdaBoost Regressor     895,222.45   \n",
      "ridge                    Ridge Regression     654,689.88   \n",
      "knn                 K Neighbors Regressor   4,587,875.04   \n",
      "en                            Elastic Net   4,554,180.77   \n",
      "huber                     Huber Regressor  12,715,512.75   \n",
      "dummy                     Dummy Regressor  12,863,212.30   \n",
      "br                         Bayesian Ridge  12,863,210.66   \n",
      "lightgbm  Light Gradient Boosting Machine  12,863,210.66   \n",
      "par          Passive Aggressive Regressor 128,033,133.87   \n",
      "\n",
      "                               MSE           RMSE             R2  RMSLE  MAPE  \\\n",
      "lr                           28.14           4.82           1.00   0.00  0.00   \n",
      "lasso                     6,393.09          29.95           1.00   0.00  0.00   \n",
      "lar                          28.14           4.82           1.00   0.00  0.00   \n",
      "llar                         27.02           4.66           1.00   0.00  0.00   \n",
      "omp                          26.27           4.63           1.00   0.00  0.00   \n",
      "et            9,919,785,137,050.81   1,066,396.01          -5.56   0.01  0.01   \n",
      "catboost     15,430,261,637,279.32   2,328,862.31         -19.98   0.02  0.02   \n",
      "gbr          10,567,059,196,678.16   1,312,793.19         -21.34   0.01  0.01   \n",
      "dt            9,914,324,917,415.47   1,071,062.69         -21.39   0.01  0.01   \n",
      "xgboost      33,274,640,327,692.80   3,599,097.07         -21.77   0.03  0.02   \n",
      "rf           13,146,338,199,368.84   1,931,273.76         -30.62   0.02  0.01   \n",
      "ada           9,954,140,206,134.05   1,131,947.41         -67.17   0.01  0.01   \n",
      "ridge           561,017,569,220.55     698,140.77        -198.40   0.01  0.01   \n",
      "knn          52,786,240,860,979.20   5,567,709.81        -951.24   0.04  0.03   \n",
      "en           26,397,863,347,685.43   4,875,418.85     -10,815.75   0.04  0.04   \n",
      "huber       201,913,810,453,930.69  13,716,447.45     -98,060.21   0.11  0.10   \n",
      "dummy       207,417,530,069,811.19  13,883,164.50     -99,550.03   0.11  0.10   \n",
      "br          207,417,526,341,503.81  13,883,164.11     -99,550.12   0.11  0.10   \n",
      "lightgbm    207,417,526,341,545.72  13,883,164.11     -99,550.12   0.11  0.10   \n",
      "par      16,584,920,499,607,876.00 128,532,656.21 -10,764,536.78   8.72  1.00   \n",
      "\n",
      "          TT (Sec)  \n",
      "lr            1.06  \n",
      "lasso         0.31  \n",
      "lar           0.02  \n",
      "llar          0.01  \n",
      "omp           0.01  \n",
      "et            0.04  \n",
      "catboost      0.24  \n",
      "gbr           0.04  \n",
      "dt            0.01  \n",
      "xgboost       0.04  \n",
      "rf            0.05  \n",
      "ada           0.03  \n",
      "ridge         0.01  \n",
      "knn           0.03  \n",
      "en            0.01  \n",
      "huber         0.02  \n",
      "dummy         0.02  \n",
      "br            0.01  \n",
      "lightgbm      0.04  \n",
      "par           0.02  \n"
     ]
    }
   ],
   "source": [
    "top5 = compare_models(n_select=5)\n",
    "print(\"Mejor modelo seleccionado:\")\n",
    "\n",
    "print(top5[0])\n",
    "# Visualizar los residuos\n",
    "plot_model(top5[0], plot='residuals')\n",
    "\n",
    "# Visualizar el error\n",
    "plot_model(top5[0], plot='error')\n",
    "\n",
    "# Visualizar la importancia de las variables\n",
    "plot_model(top5[0], plot='feature')\n",
    "\n",
    "# Después de compare_models\n",
    "resultados = pull()\n",
    "print(resultados)\n"
   ]
  },
  {
   "cell_type": "markdown",
   "id": "cd271ec9",
   "metadata": {},
   "source": [
    "# Paso 9: Guardar el mejor modelo"
   ]
  },
  {
   "cell_type": "code",
   "execution_count": 57,
   "id": "38f77a94",
   "metadata": {},
   "outputs": [
    {
     "name": "stdout",
     "output_type": "stream",
     "text": [
      "Transformation Pipeline and Model Successfully Saved\n",
      "Modelo guardado exitosamente.\n"
     ]
    }
   ],
   "source": [
    "save_model(top5[0], 'modelo_liquidacion')\n",
    "print(\"Modelo guardado exitosamente.\")"
   ]
  },
  {
   "cell_type": "markdown",
   "id": "3413fb5e",
   "metadata": {},
   "source": [
    "## **Resumen del flujo**\n",
    "\n",
    "1. **Descargas y filtras los datos históricos**.\n",
    "2. **Identificas la última quincena liquidada** (para no usarla en el entrenamiento).\n",
    "3. **Entrenas el modelo solo con datos históricos previos**.\n",
    "4. **Guardas el mejor modelo** para usarlo luego en predicciones.\n"
   ]
  }
 ],
 "metadata": {
  "kernelspec": {
   "display_name": "colfe_ml",
   "language": "python",
   "name": "python3"
  },
  "language_info": {
   "codemirror_mode": {
    "name": "ipython",
    "version": 3
   },
   "file_extension": ".py",
   "mimetype": "text/x-python",
   "name": "python",
   "nbconvert_exporter": "python",
   "pygments_lexer": "ipython3",
   "version": "3.10.18"
  }
 },
 "nbformat": 4,
 "nbformat_minor": 5
}
